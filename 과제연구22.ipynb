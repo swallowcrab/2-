{
 "cells": [
  {
   "cell_type": "code",
   "execution_count": 20,
   "metadata": {},
   "outputs": [],
   "source": [
    "#k=4일 때의 경로\n",
    "def human_traffic(a,b,c,d):\n",
    "    goal=1\n",
    "    cnt=a-1\n",
    "    while True:\n",
    "        \n",
    "        if (cnt%4)+1==b:\n",
    "            goal=3\n",
    "            cnt+=1\n",
    "        else:\n",
    "            cnt+=1\n",
    "        \n",
    "        if not goal==3:\n",
    "            continue\n",
    "            \n",
    "        break\n",
    "        \n",
    "    return cnt\n",
    "            \n",
    "def human_traffic2(a,b,c,d):\n",
    "    goal=4\n",
    "    cnt=c-1\n",
    "    while True:\n",
    "        if (cnt%4)+1==d:\n",
    "            goal=3\n",
    "            cnt+=1\n",
    "        else:\n",
    "            cnt+=1\n",
    "        \n",
    "        if not goal==3:\n",
    "            continue\n",
    "            \n",
    "        break\n",
    "        \n",
    "    return cnt"
   ]
  },
  {
   "cell_type": "code",
   "execution_count": 21,
   "metadata": {},
   "outputs": [],
   "source": [
    "#k=4에서의 가장 작은 eta값\n",
    "def fast_human_traffic(a,b,c,d):\n",
    "    \n",
    "    if human_traffic(a,b,c,d)>human_traffic2(a,b,c,d):\n",
    "        return human_traffic2(a,b,c,d)\n",
    "    else:\n",
    "        return human_traffic(a,b,c,d)"
   ]
  },
  {
   "cell_type": "code",
   "execution_count": 47,
   "metadata": {},
   "outputs": [
    {
     "data": {
      "text/plain": [
       "2"
      ]
     },
     "execution_count": 47,
     "metadata": {},
     "output_type": "execute_result"
    }
   ],
   "source": [
    "fast_human_traffic(1,2,3,4)"
   ]
  },
  {
   "cell_type": "code",
   "execution_count": 22,
   "metadata": {},
   "outputs": [],
   "source": [
    "#eta값을 만족하는 사거리 모식도\n",
    "def list_traffic(n):\n",
    "    for i in range(1,5):\n",
    "        for j in range(1,5):\n",
    "            for k in range(1,5):\n",
    "                for l in range(1,5):\n",
    "                    if i not in [j,k,l] and j not in [i,k,l] and k not in [i,j,l] and l not in [i,j,k]:\n",
    "                        if fast_human_traffic(i,j,k,l)==n:\n",
    "                            print_ijkl(i,j,k,l)"
   ]
  },
  {
   "cell_type": "code",
   "execution_count": 23,
   "metadata": {},
   "outputs": [],
   "source": [
    "def print_ijkl(i,j,k,l):\n",
    "    print('       '+str(i)+'       ')\n",
    "    print('  ┌────┐  ')\n",
    "    print('  │        │  ')\n",
    "    print(str(j)+' │        │ '+str(k))\n",
    "    print('  │        │  ')\n",
    "    print('  └────┘  ')\n",
    "    print('       '+str(l)+'       ')\n",
    "    print(\"\")"
   ]
  },
  {
   "cell_type": "code",
   "execution_count": 24,
   "metadata": {},
   "outputs": [],
   "source": [
    "#eta값을 만족하는 사거리 개수\n",
    "def cnt_traffic(n):\n",
    "    cnt=0\n",
    "    for i in range(1,5):\n",
    "        for j in range(1,5):\n",
    "            for k in range(1,5):\n",
    "                for l in range(1,5):\n",
    "                    if i not in [j,k,l] and j not in [i,k,l] and k not in [i,j,l] and l not in [i,j,k]:\n",
    "                        if fast_human_traffic(i,j,k,l)==n:\n",
    "                            cnt+=1\n",
    "    return cnt"
   ]
  },
  {
   "cell_type": "code",
   "execution_count": 45,
   "metadata": {},
   "outputs": [
    {
     "name": "stdout",
     "output_type": "stream",
     "text": [
      "       2       \n",
      "  ┌────┐  \n",
      "  │        │  \n",
      "1 │        │ 4\n",
      "  │        │  \n",
      "  └────┘  \n",
      "       3       \n",
      "\n",
      "       3       \n",
      "  ┌────┐  \n",
      "  │        │  \n",
      "1 │        │ 4\n",
      "  │        │  \n",
      "  └────┘  \n",
      "       2       \n",
      "\n",
      "       3       \n",
      "  ┌────┐  \n",
      "  │        │  \n",
      "2 │        │ 4\n",
      "  │        │  \n",
      "  └────┘  \n",
      "       1       \n",
      "\n",
      "       4       \n",
      "  ┌────┐  \n",
      "  │        │  \n",
      "1 │        │ 3\n",
      "  │        │  \n",
      "  └────┘  \n",
      "       2       \n",
      "\n",
      "       4       \n",
      "  ┌────┐  \n",
      "  │        │  \n",
      "2 │        │ 3\n",
      "  │        │  \n",
      "  └────┘  \n",
      "       1       \n",
      "\n",
      "       4       \n",
      "  ┌────┐  \n",
      "  │        │  \n",
      "3 │        │ 2\n",
      "  │        │  \n",
      "  └────┘  \n",
      "       1       \n",
      "\n"
     ]
    }
   ],
   "source": [
    "list_traffic(5)"
   ]
  },
  {
   "cell_type": "code",
   "execution_count": 46,
   "metadata": {},
   "outputs": [
    {
     "data": {
      "text/plain": [
       "6"
      ]
     },
     "execution_count": 46,
     "metadata": {},
     "output_type": "execute_result"
    }
   ],
   "source": [
    "cnt_traffic(5)"
   ]
  },
  {
   "cell_type": "code",
   "execution_count": 40,
   "metadata": {},
   "outputs": [],
   "source": [
    "#k=3\n",
    "def trihuman_traffic(a,b,c,d):\n",
    "    goal=1\n",
    "    cnt=a-1\n",
    "    while True:\n",
    "\n",
    "        if (cnt%3)+1==b:\n",
    "            goal=3\n",
    "            cnt+=1\n",
    "        else:\n",
    "            cnt+=1\n",
    "\n",
    "        if not goal==3:\n",
    "            continue\n",
    "            \n",
    "        break\n",
    "        \n",
    "    return cnt\n",
    "\n",
    "def trihuman_traffic2(a,b,c,d):\n",
    "    goal=4\n",
    "    cnt=c-1\n",
    "    while True:\n",
    "\n",
    "        if (cnt%3)+1==d:\n",
    "            goal=3\n",
    "            cnt+=1\n",
    "        else:\n",
    "            cnt+=1\n",
    "\n",
    "        if not goal==3:\n",
    "            continue\n",
    "            \n",
    "        break\n",
    "        \n",
    "    return cnt\n",
    "            \n",
    "def trifast_human_traffic(a,b,c,d):\n",
    "    \n",
    "    if trihuman_traffic(a,b,c,d)>trihuman_traffic2(a,b,c,d):\n",
    "        return trihuman_traffic2(a,b,c,d)\n",
    "    else:\n",
    "        return trihuman_traffic(a,b,c,d)\n",
    "    \n",
    "def trilist_traffic(n):\n",
    "    for i in range(1,4):\n",
    "        for j in range(1,4):\n",
    "            for k in range(1,4):\n",
    "                for l in range(1,4):\n",
    "                    if i==1 or j==1 or k==1 or l==1:\n",
    "                        if i==2 or j==2 or k==2 or l==2:\n",
    "                            if i==3 or j==3 or k==3 or l==3:\n",
    "                                if trifast_human_traffic(i,j,k,l)==n:\n",
    "                                    print_ijkl(i,j,k,l)"
   ]
  },
  {
   "cell_type": "code",
   "execution_count": 26,
   "metadata": {},
   "outputs": [],
   "source": [
    "def tricnt_traffic(n):\n",
    "    cnt=0\n",
    "    for i in range(1,4):\n",
    "        for j in range(1,4):\n",
    "            for k in range(1,4):\n",
    "                for l in range(1,4):\n",
    "                    if i==1 or j==1 or k==1 or l==1:\n",
    "                        if i==2 or j==2 or k==2 or l==2:\n",
    "                            if i==3 or j==3 or k==3 or l==3:\n",
    "                                if trifast_human_traffic(i,j,k,l)==n:\n",
    "                                    cnt+=1\n",
    "    return cnt"
   ]
  },
  {
   "cell_type": "code",
   "execution_count": 29,
   "metadata": {},
   "outputs": [],
   "source": [
    "def realtrilist_traffic(n):\n",
    "    for i in range(1,4):\n",
    "        for j in range(1,4):\n",
    "            for k in range(1,4):\n",
    "                for l in range(1,4):\n",
    "                    if i==1 or j==1 or k==1 or l==1:\n",
    "                        if i==2 or j==2 or k==2 or l==2:\n",
    "                            if i==3 or j==3 or k==3 or l==3:\n",
    "                                if i not in [j,k] and j not in [i,l] and k not in [i,l] and l not in [j,k]:\n",
    "                                    if trifast_human_traffic(i,j,k,l)==n:\n",
    "                                        print_ijkl(i,j,k,l)"
   ]
  },
  {
   "cell_type": "code",
   "execution_count": 30,
   "metadata": {},
   "outputs": [],
   "source": [
    "def realtricnt_traffic(n):\n",
    "    cnt=0\n",
    "    for i in range(1,4):\n",
    "        for j in range(1,4):\n",
    "            for k in range(1,4):\n",
    "                for l in range(1,4):\n",
    "                    if i==1 or j==1 or k==1 or l==1:\n",
    "                        if i==2 or j==2 or k==2 or l==2:\n",
    "                            if i==3 or j==3 or k==3 or l==3:\n",
    "                                if i not in [j,k] and j not in [i,l] and k not in [i,l] and l not in [j,k]:\n",
    "                                    if trifast_human_traffic(i,j,k,l)==n:\n",
    "                                        cnt+=1\n",
    "    return cnt"
   ]
  },
  {
   "cell_type": "code",
   "execution_count": 43,
   "metadata": {},
   "outputs": [],
   "source": [
    "def path_traffic(a,b,c,d):\n",
    "    traf=[human_traffic(a,b,c,d),human_traffic2(a,b,c,d)]\n",
    "    num=['P_1 -> P_2','P_3 -> P_4']\n",
    "    temp=fast_human_traffic(a,b,c,d)\n",
    "    for i in range(2):\n",
    "        if temp==traf[i]:\n",
    "            return num[i]"
   ]
  },
  {
   "cell_type": "code",
   "execution_count": 42,
   "metadata": {},
   "outputs": [],
   "source": [
    "def tripath_traffic(a,b,c,d):\n",
    "    traf=[trihuman_traffic(a,b,c,d),trihuman_traffic2(a,b,c,d)]\n",
    "    num=['P_1 -> P_2','P_3 -> P_4']\n",
    "    temp=fast_human_traffic(a,b,c,d)\n",
    "    for i in range(2):\n",
    "        if temp==traf[i]:\n",
    "            return num[i]"
   ]
  },
  {
   "cell_type": "code",
   "execution_count": 44,
   "metadata": {},
   "outputs": [
    {
     "data": {
      "text/plain": [
       "'P_1 -> P_2'"
      ]
     },
     "execution_count": 44,
     "metadata": {},
     "output_type": "execute_result"
    }
   ],
   "source": [
    "tripath_traffic(1,2,3,1)"
   ]
  },
  {
   "cell_type": "code",
   "execution_count": null,
   "metadata": {},
   "outputs": [],
   "source": []
  }
 ],
 "metadata": {
  "kernelspec": {
   "display_name": "Python 3",
   "language": "python",
   "name": "python3"
  },
  "language_info": {
   "codemirror_mode": {
    "name": "ipython",
    "version": 3
   },
   "file_extension": ".py",
   "mimetype": "text/x-python",
   "name": "python",
   "nbconvert_exporter": "python",
   "pygments_lexer": "ipython3",
   "version": "3.6.4"
  }
 },
 "nbformat": 4,
 "nbformat_minor": 2
}
